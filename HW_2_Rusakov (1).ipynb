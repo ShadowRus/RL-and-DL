{
  "nbformat": 4,
  "nbformat_minor": 0,
  "metadata": {
    "colab": {
      "name": "HW_2_Rusakov",
      "provenance": [],
      "collapsed_sections": []
    },
    "kernelspec": {
      "name": "python3",
      "display_name": "Python 3"
    },
    "accelerator": "GPU"
  },
  "cells": [
    {
      "cell_type": "code",
      "metadata": {
        "colab": {
          "base_uri": "https://localhost:8080/"
        },
        "id": "HgodYp9xxitN",
        "outputId": "ddb2ae91-7aa9-4ac7-c9da-70e6b12363cf"
      },
      "source": [
        "!pip install gym"
      ],
      "execution_count": 1,
      "outputs": [
        {
          "output_type": "stream",
          "text": [
            "Requirement already satisfied: gym in /usr/local/lib/python3.6/dist-packages (0.17.3)\n",
            "Requirement already satisfied: pyglet<=1.5.0,>=1.4.0 in /usr/local/lib/python3.6/dist-packages (from gym) (1.5.0)\n",
            "Requirement already satisfied: cloudpickle<1.7.0,>=1.2.0 in /usr/local/lib/python3.6/dist-packages (from gym) (1.3.0)\n",
            "Requirement already satisfied: numpy>=1.10.4 in /usr/local/lib/python3.6/dist-packages (from gym) (1.18.5)\n",
            "Requirement already satisfied: scipy in /usr/local/lib/python3.6/dist-packages (from gym) (1.4.1)\n",
            "Requirement already satisfied: future in /usr/local/lib/python3.6/dist-packages (from pyglet<=1.5.0,>=1.4.0->gym) (0.16.0)\n"
          ],
          "name": "stdout"
        }
      ]
    },
    {
      "cell_type": "code",
      "metadata": {
        "id": "YhOaCD3Ox1o1"
      },
      "source": [
        "import gym\r\n",
        "\r\n",
        "import matplotlib as mpl\r\n",
        "import matplotlib.pyplot as plt\r\n",
        "import numpy as np\r\n",
        "import math\r\n",
        "import random\r\n",
        "import seaborn as sns\r\n",
        "\r\n",
        "import torch\r\n",
        "import torch.nn as nn\r\n",
        "import torch.optim as optim\r\n",
        "import torch.nn.functional as F\r\n",
        "import torchvision.transforms as T\r\n",
        "from torch.autograd import Variable\r\n",
        "import tqdm\r\n",
        "\r\n",
        "sns.set_style(\"whitegrid\")\r\n",
        "sns.set_palette(\"colorblind\")\r\n",
        "palette = sns.color_palette()\r\n",
        "figsize = (15,8)\r\n",
        "legend_fontsize = 16"
      ],
      "execution_count": 2,
      "outputs": []
    },
    {
      "cell_type": "code",
      "metadata": {
        "id": "CMRfi-J0yBTh"
      },
      "source": [
        "N_ROWS, N_COLS, N_WIN = 3, 3, 3"
      ],
      "execution_count": 4,
      "outputs": []
    },
    {
      "cell_type": "code",
      "metadata": {
        "id": "b9ZBy35HyFoJ"
      },
      "source": [
        "class TicTacToe(gym.Env):\r\n",
        "    def __init__(self, n_rows=N_ROWS, n_cols=N_COLS, n_win=N_WIN):\r\n",
        "        self.n_rows = n_rows\r\n",
        "        self.n_cols = n_cols\r\n",
        "        self.n_win = n_win\r\n",
        "\r\n",
        "        self.board = np.2((self.n_rows, self.n_cols), dtype=int)\r\n",
        "        self.gameOver = False\r\n",
        "        self.boardHash = None\r\n",
        "        # ход первого игрока\r\n",
        "        self.curTurn = 1\r\n",
        "        self.emptySpaces = None\r\n",
        "        \r\n",
        "        self.reset()\r\n",
        "\r\n",
        "    def getEmptySpaces(self):\r\n",
        "        if self.emptySpaces is None:\r\n",
        "            res = np.where(self.board == 0)\r\n",
        "            self.emptySpaces = np.array([ (i, j) for i,j in zip(res[0], res[1]) ])\r\n",
        "        return self.emptySpaces\r\n",
        "\r\n",
        "    def makeMove(self, player, i, j):\r\n",
        "        self.board[i, j] = player\r\n",
        "        self.emptySpaces = None\r\n",
        "        self.boardHash = None\r\n",
        "\r\n",
        "    def getHash(self):\r\n",
        "        if self.boardHash is None:\r\n",
        "            self.boardHash = ''.join(['%s' % (x+1) for x in self.board.reshape(self.n_rows * self.n_cols)])\r\n",
        "        return self.boardHash\r\n",
        "\r\n",
        "    def isTerminal(self):\r\n",
        "        # проверим, не закончилась ли игра\r\n",
        "        cur_marks, cur_p = np.where(self.board == self.curTurn), self.curTurn\r\n",
        "        for i,j in zip(cur_marks[0], cur_marks[1]):\r\n",
        "#             print((i,j))\r\n",
        "            win = False\r\n",
        "            if i <= self.n_rows - self.n_win:\r\n",
        "                if np.all(self.board[i:i+self.n_win, j] == cur_p):\r\n",
        "                    win = True\r\n",
        "            if not win:\r\n",
        "                if j <= self.n_cols - self.n_win:\r\n",
        "                    if np.all(self.board[i,j:j+self.n_win] == cur_p):\r\n",
        "                        win = True\r\n",
        "            if not win:\r\n",
        "                if i <= self.n_rows - self.n_win and j <= self.n_cols - self.n_win:\r\n",
        "                    if np.all(np.array([ self.board[i+k,j+k] == cur_p for k in range(self.n_win) ])):\r\n",
        "                        win = True\r\n",
        "            if not win:\r\n",
        "                if i <= self.n_rows - self.n_win and j >= self.n_win-1:\r\n",
        "                    if np.all(np.array([ self.board[i+k,j-k] == cur_p for k in range(self.n_win) ])):\r\n",
        "                        win = True\r\n",
        "            if win:\r\n",
        "                self.gameOver = True\r\n",
        "                return self.curTurn\r\n",
        "\r\n",
        "        if len(self.getEmptySpaces()) == 0:\r\n",
        "            self.gameOver = True\r\n",
        "            return 0\r\n",
        "\r\n",
        "        self.gameOver = False\r\n",
        "        return None\r\n",
        "\r\n",
        "    def printBoard(self):\r\n",
        "        for i in range(0, self.n_rows):\r\n",
        "            print('----'*(self.n_cols)+'-')\r\n",
        "            out = '| '\r\n",
        "            for j in range(0, self.n_cols):\r\n",
        "                if self.board[i, j] == 1:\r\n",
        "                    token = 'x'\r\n",
        "                if self.board[i, j] == -1:\r\n",
        "                    token = 'o'\r\n",
        "                if self.board[i, j] == 0:\r\n",
        "                    token = ' '\r\n",
        "                out += token + ' | '\r\n",
        "            print(out)\r\n",
        "        print('----'*(self.n_cols)+'-')\r\n",
        "\r\n",
        "    def getState(self):\r\n",
        "        return (self.getHash(), self.getEmptySpaces(), self.curTurn)\r\n",
        "\r\n",
        "    def action_from_int(self, action_int):\r\n",
        "        return ( int(action_int / self.n_cols), int(action_int % self.n_cols))\r\n",
        "\r\n",
        "    def int_from_action(self, action):\r\n",
        "        return action[0] * self.n_cols + action[1]\r\n",
        "    \r\n",
        "    def step(self, action):\r\n",
        "        if self.board[action[0], action[1]] != 0:\r\n",
        "            return self.getState(), -10, True, {}\r\n",
        "        self.makeMove(self.curTurn, action[0], action[1])\r\n",
        "        reward = self.isTerminal()\r\n",
        "        self.curTurn = -self.curTurn\r\n",
        "        return self.getState(), 0 if reward is None else reward, reward is not None, {}\r\n",
        "\r\n",
        "    def reset(self):\r\n",
        "        self.board = np.2((self.n_rows, self.n_cols), dtype=int)\r\n",
        "        self.boardHash = None\r\n",
        "        self.gameOver = False\r\n",
        "        self.emptySpaces = None\r\n",
        "        self.curTurn = 1"
      ],
      "execution_count": 5,
      "outputs": []
    },
    {
      "cell_type": "code",
      "metadata": {
        "id": "aKf55UnzyTCH"
      },
      "source": [
        ""
      ],
      "execution_count": 6,
      "outputs": []
    },
    {
      "cell_type": "code",
      "metadata": {
        "id": "N70HwRizyWKV"
      },
      "source": [
        "def plot_test_game(env, pi1, pi2, random_1=False, random_2=True, verbose=True, fontq=20, fontx=60):\r\n",
        "    '''Играем тестовую партию между стратегиями или со случайными ходами, рисуем ход игры'''\r\n",
        "    done = False\r\n",
        "    env.reset()\r\n",
        "    while not done:\r\n",
        "        s, actions = env.getHash(), env.getEmptySpaces()\r\n",
        "        if env.curTurn == 1:\r\n",
        "            a = get_and_print_move(env, pi1, s, actions, random=random_1, verbose=verbose, fontq=fontq, fontx=fontx)\r\n",
        "        else:\r\n",
        "            a = get_and_print_move(env, pi2, s, actions, random=random_2, verbose=verbose, fontq=fontq, fontx=fontx)\r\n",
        "        observation, reward, done, info = env.step(actions[a])\r\n",
        "        if reward == 1:\r\n",
        "            print(\"Крестики выиграли!\")\r\n",
        "            plot_board(env, None, showtext=False, fontq=fontq, fontx=fontx)\r\n",
        "        if reward == -1:\r\n",
        "            print(\"Нолики выиграли!\")\r\n",
        "            plot_board(env, None, showtext=False, fontq=fontq, fontx=fontx)"
      ],
      "execution_count": 7,
      "outputs": []
    },
    {
      "cell_type": "code",
      "metadata": {
        "colab": {
          "base_uri": "https://localhost:8080/",
          "height": 1000
        },
        "id": "ModkpGTqyd4i",
        "outputId": "a6797de0-2541-43ee-fbc8-7d4a5fee6c20"
      },
      "source": [
        "env = TicTacToe(n_rows=3, n_cols=3, n_win=3)\r\n",
        "plot_test_game(env, None, None, random_1=True, random_2=True, verbose=True, fontx=20)"
      ],
      "execution_count": 9,
      "outputs": [
        {
          "output_type": "display_data",
          "data": {
            "image/png": "[encoded data removed]",
            "text/plain": [
              "<Figure size 576x576 with 2 Axes>"
            ]
          },
          "metadata": {
            "tags": []
          }
        },
        {
          "output_type": "display_data",
          "data": {
            "image/png": "[encoded data removed]",
            "text/plain": [
              "<Figure size 576x576 with 2 Axes>"
            ]
          },
          "metadata": {
            "tags": []
          }
        },
        {
          "output_type": "display_data",
          "data": {
            "image/png": "[encoded data removed]",
            "text/plain": [
              "<Figure size 576x576 with 2 Axes>"
            ]
          },
          "metadata": {
            "tags": []
          }
        },
        {
          "output_type": "display_data",
          "data": {
            "image/png": "[encoded data removed]",
            "text/plain": [
              "<Figure size 576x576 with 2 Axes>"
            ]
          },
          "metadata": {
            "tags": []
          }
        },
        {
          "output_type": "display_data",
          "data": {
            "image/png": "[encoded data removed]",
            "text/plain": [
              "<Figure size 576x576 with 2 Axes>"
            ]
          },
          "metadata": {
            "tags": []
          }
        },
        {
          "output_type": "stream",
          "text": [
            "Крестики выиграли!\n"
          ],
          "name": "stdout"
        },
        {
          "output_type": "display_data",
          "data": {
            "image/png": "[encoded data removed]",
            "text/plain": [
              "<Figure size 576x576 with 2 Axes>"
            ]
          },
          "metadata": {
            "tags": []
          }
        }
      ]
    },
    {
      "cell_type": "markdown",
      "metadata": {
        "id": "UKaqAUoFTyf7"
      },
      "source": [
        "**Часть первая:** \r\n",
        "\r\n",
        "\r\n",
        "\r\n",
        "\r\n",
        "Крестики-нолики при помощи Q-обучения\r\n",
        "В коде, прилагающемся к последней лекции про обучение с подкреплением, реализован Environment для крестиков-ноликов, в котором можно при инициализации указывать разные размеры доски и условия победы, а также функции для рисования, в том числе с указанием оценки различных действий. С этим окружением все задания и связаны.\r\n",
        "1. Реализуйте обычное (табличное) Q-обучение. Обучите стратегии крестиков и ноликов для доски 3х3.\r\n",
        "2. Попробуйте обучить стратегии крестиков и ноликов для доски 4х4 и/или 5х5.\r\n",
        "\r\n"
      ]
    },
    {
      "cell_type": "code",
      "metadata": {
        "id": "6XIjc1wvRMFX"
      },
      "source": [
        "class R_Agent(object):\r\n",
        "    def __init__(self):\r\n",
        "        self.index_best_action = True\r\n",
        "        pass\r\n",
        "\r\n",
        "    def get_best_action(self, state, n_actions=None):\r\n",
        "        if n_actions is None:\r\n",
        "            n_actions = np.sum(np.array(list(state)) == '1')\r\n",
        "        return np.random.randint(n_actions)"
      ],
      "execution_count": 127,
      "outputs": []
    },
    {
      "cell_type": "code",
      "metadata": {
        "id": "LQL9ceaYXWKm"
      },
      "source": [
        "class QL_Agent:\r\n",
        "    def __init__(self, alpha=0.55, epsilon=0.1, gamma=0.7):\r\n",
        "        self.index_best_action = True\r\n",
        "\r\n",
        "        self.Q = {}\r\n",
        "        self.alpha = alpha\r\n",
        "        self.epsilon = epsilon\r\n",
        "        self.gamma = gamma\r\n",
        "        \r\n",
        "    \r\n",
        "    def Q_action(self, state, n_actions=None):\r\n",
        "        if state not in self.Q:\r\n",
        "            if n_actions is None:\r\n",
        "                n_actions = np.sum(np.array(list(state)) == '1')\r\n",
        "            #self.Q[state] = np.2(n_actions)\r\n",
        "            self.Q[state] = np.random.random(n_actions) * 0.01 - 0.005\r\n",
        "        return self.Q[state]\r\n",
        "\r\n",
        "    def get_V(self, state):\r\n",
        "        return np.max(self.Q_action(state))\r\n",
        "\r\n",
        "   \r\n",
        "    def update_Q(self, state, n_action, reward, next_state):\r\n",
        "        Q = self.Q_action(state)[n_action]\r\n",
        "        if next_state is None:\r\n",
        "            V = 0\r\n",
        "        else:\r\n",
        "            V = self.get_V(next_state)\r\n",
        "            \r\n",
        "        self.Q[state][n_action] = Q + self.alpha * (reward + self.gamma * V - Q)\r\n",
        "\r\n",
        "    def get_best_action(self, state, n_actions=None):\r\n",
        "        return np.argmax(self.Q_action(state, n_actions))\r\n",
        "\r\n",
        "    # epsilon-greedy action\r\n",
        "    def select_action(self, state, epsilon, n_actions=None):\r\n",
        "        if np.random.random() > epsilon:\r\n",
        "            return self.get_best_action(state, n_actions)\r\n",
        "        else:\r\n",
        "            if n_actions is None:\r\n",
        "                n_actions = np.sum(np.array(list(state)) == '1')\r\n",
        "            return np.random.randint(n_actions)"
      ],
      "execution_count": 128,
      "outputs": []
    },
    {
      "cell_type": "code",
      "metadata": {
        "id": "FAKP_rqCUfTH"
      },
      "source": [
        "def test_policy(env, pi_1, pi_2, num_games=1000):\r\n",
        "    w1 = 0\r\n",
        "    w2 = 0\r\n",
        "    for _ in range(num_games):\r\n",
        "        reward = play_game(env, pi_1, pi_2)\r\n",
        "        if reward == 1:\r\n",
        "            w1 += 1\r\n",
        "        elif reward == -1:\r\n",
        "            w2 += 1\r\n",
        "    return w1 / num_games, w2 / num_games"
      ],
      "execution_count": 129,
      "outputs": []
    },
    {
      "cell_type": "code",
      "metadata": {
        "id": "o40Ue8rXUhUR"
      },
      "source": [
        "def play_game(env, pi_1, pi_2):\r\n",
        "    done = False\r\n",
        "    env.reset()\r\n",
        "    while not done:\r\n",
        "        s, actions = env.getHash(), env.getEmptySpaces()\r\n",
        "        n_actions = len(actions)\r\n",
        "        if env.curTurn == 1:\r\n",
        "            if pi_1.index_best_action:\r\n",
        "                a = actions[pi_1.get_best_action(s, n_actions)]\r\n",
        "            else:\r\n",
        "                a = pi_1.get_best_action(s)\r\n",
        "        else:\r\n",
        "            if pi_2.index_best_action:\r\n",
        "                a = actions[pi_2.get_best_action(inv_state(s), n_actions)]\r\n",
        "            else:\r\n",
        "                a = pi_2.get_best_action(inv_state(s))\r\n",
        "        observation, reward, done, info = env.step(a)\r\n",
        "        if reward < -1:\r\n",
        "            print(\"Ход в занятую клетку\")\r\n",
        "    return reward\r\n",
        "\r\n",
        "def inv_state(s):\r\n",
        "    return ''.join([str(2 - int(n)) for n in s])"
      ],
      "execution_count": 130,
      "outputs": []
    },
    {
      "cell_type": "code",
      "metadata": {
        "id": "7YbWWtrgUHFS"
      },
      "source": [
        "def QL_train(env, QL_agent,R, max_epsilon, epochs):\r\n",
        "    hist_1 = []\r\n",
        "    hist_2 = []\r\n",
        "    for e in range(epochs):\r\n",
        "        \r\n",
        "        epsilon = max_epsilon * (epochs - e) / epochs\r\n",
        "\r\n",
        "        if e % (epochs // 5) == 0:\r\n",
        "            p, _ = test_policy(env, QL_agent, R)\r\n",
        "            hist_1.append((e, p))\r\n",
        "            _, p = test_policy(env, R, QL_agent)\r\n",
        "            hist_2.append((e, p))\r\n",
        "            \r\n",
        "        done = False\r\n",
        "        env.reset()\r\n",
        "\r\n",
        "        state_0, actions_0 = env.getHash(), env.getEmptySpaces()\r\n",
        "        n_action_0 = QL_agent.select_action(state_0, epsilon, len(actions_0))\r\n",
        "        observation, reward, done, info = env.step(actions_0[n_action_0])\r\n",
        "        state_1, actions_1 = observation[0], observation[1]\r\n",
        "        curTurn = env.curTurn\r\n",
        "        state_1 = inv_state(state_1)\r\n",
        "        while not done:\r\n",
        "            n_action_1 = QL_agent.select_action(state_1, epsilon, len(actions_1))\r\n",
        "            observation, reward, done, info = env.step(actions_1[n_action_1])\r\n",
        "            if done: \r\n",
        "                QL_agent.update_Q(state_0, n_action_0, -reward * curTurn, None)\r\n",
        "                QL_agent.update_Q(state_1, n_action_1, reward * curTurn, None)\r\n",
        "                break\r\n",
        "\r\n",
        "            next_state = observation[0]\r\n",
        "            curTurn = env.curTurn\r\n",
        "            if curTurn == -1:\r\n",
        "                next_state = inv_state(next_state)\r\n",
        "                \r\n",
        "            QL_agent.update_Q(state_0, n_action_0, reward, next_state)\r\n",
        "            state_0, actions_0 = state_1, actions_1\r\n",
        "            state_1, actions_1 = next_state, observation[1]\r\n",
        "            n_action_0 = n_action_1\r\n",
        "            \r\n",
        "    return hist_1, hist_2"
      ],
      "execution_count": 133,
      "outputs": []
    },
    {
      "cell_type": "code",
      "metadata": {
        "id": "HQDOGFr-UJdt"
      },
      "source": [
        "#alpha = 0.5\r\n",
        "#gamma = 0.7\r\n",
        "#epsilon =0.1\r\n",
        "env= TicTacToe(n_rows=3, n_cols=3, n_win=3)\r\n",
        "alpha = 0.09\r\n",
        "gamma = 0.7\r\n",
        "epsilon =0.1\r\n",
        "QL = QL_Agent(alpha,epsilon, gamma)\r\n",
        "R = R_Agent()\r\n",
        "epochs = 100000\r\n",
        "hist_1, hist_2 = QL_train(env, QL,R,epsilon,epochs)"
      ],
      "execution_count": 135,
      "outputs": []
    },
    {
      "cell_type": "code",
      "metadata": {
        "id": "l1B99L4fUR4P"
      },
      "source": [
        "def plot_results(hist_1, hist_2):\r\n",
        "    steps = [x[0] for x in hist_1]\r\n",
        "    rewards_1 = [x[1] for x in hist_1]\r\n",
        "    rewards_2 = [x[1] for x in hist_2]\r\n",
        "    plt.plot(steps, rewards_1, label='x')\r\n",
        "    plt.plot(steps, rewards_2, label='o')\r\n",
        "    plt.grid()\r\n",
        "    plt.xlabel(\"Шаг обучения\")\r\n",
        "    plt.ylabel(\"Доля выигрышей\")\r\n",
        "    plt.title(\"Игры против игрока со случайными ходами\")\r\n",
        "    plt.legend()\r\n",
        "    plt.ylim(0, 1.1)"
      ],
      "execution_count": 137,
      "outputs": []
    },
    {
      "cell_type": "code",
      "metadata": {
        "colab": {
          "base_uri": "https://localhost:8080/",
          "height": 294
        },
        "id": "7dJnFS3wUT82",
        "outputId": "bc25b256-48c9-4f64-f920-5b8b94e55bba"
      },
      "source": [
        "plot_results(hist_1, hist_2)"
      ],
      "execution_count": 138,
      "outputs": [
        {
          "output_type": "display_data",
          "data": {
            "image/png": "[encoded data removed]",
            "text/plain": [
              "<Figure size 432x288 with 1 Axes>"
            ]
          },
          "metadata": {
            "tags": []
          }
        }
      ]
    },
    {
      "cell_type": "code",
      "metadata": {
        "id": "3aNsNo2LbYk1"
      },
      "source": [
        "#alpha = 0.5\r\n",
        "#gamma = 0.7\r\n",
        "#epsilon =0.1\r\n",
        "env= TicTacToe(n_rows=4, n_cols=4, n_win=4)\r\n",
        "alpha = 0.5\r\n",
        "gamma = 1.0\r\n",
        "epsilon =0.5\r\n",
        "QL = QL_Agent(alpha,epsilon, gamma)\r\n",
        "R = R_Agent()\r\n",
        "epochs = 100000\r\n",
        "hist_1, hist_2 = QL_train(env, QL,R,epsilon,epochs)"
      ],
      "execution_count": 141,
      "outputs": []
    },
    {
      "cell_type": "code",
      "metadata": {
        "colab": {
          "base_uri": "https://localhost:8080/",
          "height": 294
        },
        "id": "upRmU_Kdp3Y9",
        "outputId": "d5e95b6a-cca6-42d5-fa82-3c79d527da0e"
      },
      "source": [
        "plot_results(hist_1, hist_2)"
      ],
      "execution_count": 142,
      "outputs": [
        {
          "output_type": "display_data",
          "data": {
            "image/png": "[encoded data removed]",
            "text/plain": [
              "<Figure size 432x288 with 1 Axes>"
            ]
          },
          "metadata": {
            "tags": []
          }
        }
      ]
    },
    {
      "cell_type": "markdown",
      "metadata": {
        "id": "12GGzL0krPsG"
      },
      "source": [
        "**Часть вторая: добавим нейронных сетей**\r\n",
        "\r\n",
        "\r\n",
        "\r\n",
        "\r\n",
        "Реализуйте нейронную сеть для метода DQN на доске для крестиков-ноликов. Не буду ограничивать фантазию, но кажется, что свёртки 3х3 здесь должны неплохо работать (в том числе обобщаться на доски размера побольше).\r\n",
        "3. Реализуйте DQN с нейронной сетью, обучите стратегии крестиков и ноликов. Замечание: скорее всего, experience replay потребуется сразу же.\r\n",
        "4. Реализуйте Double DQN и/или Dueling DQN.\r\n"
      ]
    },
    {
      "cell_type": "code",
      "metadata": {
        "id": "1MUxAPZtrcSt"
      },
      "source": [
        "class ReplayMemory():\r\n",
        "    def __init__(self, capacity):\r\n",
        "        self.capacity = capacity\r\n",
        "        self.memory = []\r\n",
        "        self.position = 0\r\n",
        "\r\n",
        "    def store(self, exptuple):\r\n",
        "        if len(self.memory) < self.capacity:\r\n",
        "            self.memory.append(None)\r\n",
        "        self.memory[self.position] = exptuple\r\n",
        "        self.position = (self.position + 1) % self.capacity\r\n",
        "       \r\n",
        "    def sample(self, batch_size):\r\n",
        "        return random.sample(self.memory, batch_size)\r\n",
        "    \r\n",
        "    def __len__(self):\r\n",
        "        return len(self.memory)\r\n"
      ],
      "execution_count": 143,
      "outputs": []
    },
    {
      "cell_type": "code",
      "metadata": {
        "id": "zotB9FNarcbs"
      },
      "source": [
        "class Network_4_4(nn.Module):\r\n",
        "    def __init__(self):\r\n",
        "        nn.Module.__init__(self)\r\n",
        "        self.c1 = nn.Conv2d(3, 16, (3, 3))\r\n",
        "        self.c2 = nn.Conv2d(16, 256, (2, 2))\r\n",
        "        self.l1 = nn.Linear(256, 128)\r\n",
        "        self.l2 = nn.Linear(128, 16)\r\n",
        "\r\n",
        "    def forward(self, x):\r\n",
        "        x = F.relu(self.c1(x))\r\n",
        "        x = F.relu(self.c2(x))\r\n",
        "        x = torch.flatten(x, 1)\r\n",
        "        x = F.relu(self.l1(x))\r\n",
        "        x = self.l2(x)\r\n",
        "        return x\r\n",
        "    \r\n",
        "class Network_3_3(nn.Module):\r\n",
        "    def __init__(self, conv_out=128):\r\n",
        "        nn.Module.__init__(self)\r\n",
        "        self.c1 = nn.Conv2d(3, conv_out * 2, (3, 3))\r\n",
        "        self.l1 = nn.Linear(conv_out * 2, conv_out)\r\n",
        "        self.l2 = nn.Linear(conv_out, 9)\r\n",
        "\r\n",
        "    def forward(self, x):\r\n",
        "        x = F.relu(self.c1(x))\r\n",
        "        x = torch.flatten(x, 1)\r\n",
        "        x = F.relu(self.l1(x))\r\n",
        "        x = self.l2(x)\r\n",
        "        return x\r\n",
        "\r\n",
        "def s_to_tensor(s):\r\n",
        "    s = np.array([int(c) for c in s])\r\n",
        "    size = int(np.sqrt(len(s)))\r\n",
        "    pi_1 = np.where(s==2, 1, 0).reshape(size, size)\r\n",
        "    pi_2 = np.where(s==0, 1, 0).reshape(size, size)\r\n",
        "    empty_spaces = np.where(s==1, 1, 0).reshape(size, size)\r\n",
        "    return torch.Tensor(np.stack([pi_1, pi_2, empty_spaces])).reshape(3, size, size)"
      ],
      "execution_count": 144,
      "outputs": []
    },
    {
      "cell_type": "code",
      "metadata": {
        "id": "IyR1UPoQrqaa"
      },
      "source": [
        "device = torch.device(\"cuda\") if torch.cuda.is_available() else torch.device('cpu')"
      ],
      "execution_count": 145,
      "outputs": []
    },
    {
      "cell_type": "code",
      "metadata": {
        "id": "wDqm8DLmrryD"
      },
      "source": [
        "class TicTacToeDQN():\r\n",
        "    def __init__(self, n_rows=4, n_cols=4, n_win=4, model_class=Network_4_4, gamma=0.8, device=device):\r\n",
        "        self.n_rows = n_rows\r\n",
        "        self.n_cols = n_cols\r\n",
        "        self.env = TicTacToe(n_rows, n_cols, n_win)\r\n",
        "        self.device = device\r\n",
        "        self.models = {-1: model_class().to(device), 1: model_class().to(device)}\r\n",
        "        self.memories = {-1: ReplayMemory(1000000), 1: ReplayMemory(1000000)}\r\n",
        "        self.optimizers = {-1: optim.Adam(self.models[-1].parameters(), lr=0.0001, weight_decay=0.001),\r\n",
        "                            1: optim.Adam(self.models[1].parameters(), lr=0.0001, weight_decay=0.001)}\r\n",
        "        self.previous_states = {-1: None, 1: None}\r\n",
        "        self.previous_actions = {}\r\n",
        "        self.steps_done = 0\r\n",
        "        \r\n",
        "        self.gamma = gamma\r\n",
        "        self.batch_size = 512\r\n",
        "        \r\n",
        "        self.eps_init, self.eps_final, self.eps_decay = 0.9, 0.05, 100000\r\n",
        "        self.num_step = 0\r\n",
        "\r\n",
        "    def select_greedy_action(self, state, cur_turn):\r\n",
        "        return self.models[cur_turn](state.unsqueeze(0)).data.max(1)[1].view(1, 1)\r\n",
        "\r\n",
        "    def select_action(self, state, cur_turn):\r\n",
        "        sample = random.random()\r\n",
        "        self.num_step += 1\r\n",
        "        eps_threshold = self.eps_final + (self.eps_init - self.eps_final) * math.exp(-1. * self.num_step / self.eps_decay)\r\n",
        "        if sample > eps_threshold:\r\n",
        "            return self.select_greedy_action(state, cur_turn)\r\n",
        "        else:\r\n",
        "            return torch.tensor([[random.randrange(self.n_rows * self.n_cols)]], dtype=torch.int64)\r\n",
        "        \r\n",
        "    def run_episode(self, e=0, do_learning=True, greedy=False):\r\n",
        "        self.env.reset()\r\n",
        "        self.previous_states = {-1: None, 1: None}\r\n",
        "        self.previous_actions = {}\r\n",
        "        state, _, cur_turn = self.env.getState()\r\n",
        "        while True:\r\n",
        "            state_tensor = s_to_tensor(state)\r\n",
        "            with torch.no_grad():\r\n",
        "                if greedy:\r\n",
        "                    action_idx = self.select_greedy_action(state_tensor.to(self.device), cur_turn).cpu()\r\n",
        "                else:\r\n",
        "                    action_idx = self.select_action(state_tensor.to(self.device), cur_turn).cpu()\r\n",
        "            # Сохраняем позицию и совершаемое действие\r\n",
        "            self.previous_states[cur_turn] = state_tensor\r\n",
        "            self.previous_actions[cur_turn] = action_idx\r\n",
        "            action = self.env.action_from_int(action_idx.numpy()[0][0])\r\n",
        "            (next_state, empty_spaces, cur_turn), reward, done, _ = self.env.step(action)\r\n",
        "            next_state_tensor = s_to_tensor(next_state)\r\n",
        "            if reward == -10:\r\n",
        "                transition = (state_tensor, action_idx, next_state_tensor, torch.tensor([reward], dtype=torch.float32))\r\n",
        "                self.memories[cur_turn].store(transition)\r\n",
        "            else:\r\n",
        "                if self.previous_states[cur_turn] is not None:\r\n",
        "                    if reward == -cur_turn: # Последний ходивший игрок выиграл, текущий cur_turn проиграл - дополним память победителя\r\n",
        "                        transition = (self.previous_states[-cur_turn], \r\n",
        "                                      self.previous_actions[-cur_turn], \r\n",
        "                                      next_state_tensor, \r\n",
        "                                      torch.tensor([1.0], dtype=torch.float32)\r\n",
        "                                     )\r\n",
        "                        self.memories[-cur_turn].store(transition)\r\n",
        "                    transition = (self.previous_states[cur_turn], \r\n",
        "                                  self.previous_actions[cur_turn], \r\n",
        "                                  next_state_tensor, \r\n",
        "                                  torch.tensor([reward * cur_turn], dtype=torch.float32)\r\n",
        "                                 )\r\n",
        "                    self.memories[cur_turn].store(transition)\r\n",
        "\r\n",
        "            \r\n",
        "            if do_learning:\r\n",
        "                self.learn(cur_turn)\r\n",
        "\r\n",
        "            state = next_state\r\n",
        "\r\n",
        "            if done:\r\n",
        "                break\r\n",
        "\r\n",
        "    def learn(self, cur_turn):\r\n",
        "        if np.min([len(self.memories[cur_turn]), len(self.memories[-cur_turn])]) < self.batch_size:\r\n",
        "            return\r\n",
        "        \r\n",
        "        # берём мини-батч из памяти\r\n",
        "        transitions = self.memories[cur_turn].sample(self.batch_size)\r\n",
        "        batch_state, batch_action, batch_next_state, batch_reward = zip(*transitions)\r\n",
        "\r\n",
        "        batch_state = Variable(torch.stack(batch_state).to(self.device))\r\n",
        "        batch_action = Variable(torch.cat(batch_action).to(self.device))\r\n",
        "        batch_reward = Variable(torch.cat(batch_reward).to(self.device))\r\n",
        "        batch_next_state = Variable(torch.stack(batch_next_state).to(self.device))\r\n",
        "        \r\n",
        "        # считаем значения функции Q\r\n",
        "        Q = self.models[cur_turn](batch_state)\r\n",
        "        Q = Q.gather(1, batch_action).reshape([self.batch_size])\r\n",
        "        \r\n",
        "        # оцениваем ожидаемые значения после этого действия\r\n",
        "        Qmax = self.models[cur_turn](batch_next_state).detach()\r\n",
        "        Qmax = Qmax.max(1)[0]\r\n",
        "        Qnext = batch_reward + (self.gamma * Qmax)\r\n",
        "        # и хотим, чтобы Q было похоже на Qnext -- это и есть суть Q-обучения\r\n",
        "        loss = F.smooth_l1_loss(Q, Qnext)\r\n",
        "        self.optimizers[cur_turn].zero_grad()\r\n",
        "        loss.backward()\r\n",
        "        \r\n",
        "        self.optimizers[cur_turn].step()\r\n",
        "        \r\n",
        "    def test_strategy(self, player, n_episodes=1000):\r\n",
        "        rewards = []\r\n",
        "        for _ in range(n_episodes):\r\n",
        "            self.env.reset()\r\n",
        "            state, empty_spaces, cur_turn = self.env.getState()\r\n",
        "            done = False\r\n",
        "            while not done:\r\n",
        "                if cur_turn == player:\r\n",
        "                    idx = self.select_greedy_action(s_to_tensor(state).to(device), player)\r\n",
        "                    action = self.env.action_from_int(idx)\r\n",
        "                else:\r\n",
        "                    idx = np.random.randint(len(empty_spaces))\r\n",
        "                    action = empty_spaces[idx]\r\n",
        "                (state, empty_spaces, cur_turn), reward, done, _ = self.env.step(action)\r\n",
        "            if reward != -10:\r\n",
        "                rewards.append(reward * player)\r\n",
        "            else:\r\n",
        "                if cur_turn == player:\r\n",
        "                    rewards.append(reward)\r\n",
        "        return np.array(rewards)"
      ],
      "execution_count": 146,
      "outputs": []
    },
    {
      "cell_type": "code",
      "metadata": {
        "id": "jN5QG1Ylrw2V"
      },
      "source": [
        "def learn_to_play(learner, total_episodes, test_episodes):\r\n",
        "    pi_1_win = []\r\n",
        "    pi_1_draw = []\r\n",
        "    pi_1_lose = []\r\n",
        "    pi_1_fail = []\r\n",
        "    pi_2_win = [] \r\n",
        "    pi_2_draw = []\r\n",
        "    naughts_lose = []\r\n",
        "    naughts_fail = []\r\n",
        "\r\n",
        "    for i in tqdm.tqdm(range(1, total_episodes + 1)):\r\n",
        "        learner.run_episode(do_learning=True)\r\n",
        "        if i % 1000 == 0:\r\n",
        "            pi_1 = learner.test_strategy(1, test_episodes)\r\n",
        "            pi_2 = learner.test_strategy(-1, test_episodes)\r\n",
        "            pi_1_win.append(np.sum(pi_1==1)/1000)\r\n",
        "            pi_1_draw.append(np.sum(pi_1==0)/1000)\r\n",
        "            pi_1_lose.append(np.sum(pi_1==-1)/1000)\r\n",
        "            pi_1_fail.append(np.sum(pi_1==-10)/1000)\r\n",
        "            pi_2_win.append(np.sum(pi_2==1)/1000)\r\n",
        "            pi_2_draw.append(np.sum(pi_2==0)/1000)\r\n",
        "            naughts_lose.append(np.sum(pi_2==-1)/1000)\r\n",
        "            naughts_fail.append(np.sum(pi_2==-10)/1000)\r\n",
        "    return (pi_1_win, pi_1_draw, pi_1_lose, pi_1_fail), (pi_2_win, pi_2_draw, naughts_lose, naughts_fail)"
      ],
      "execution_count": 147,
      "outputs": []
    },
    {
      "cell_type": "code",
      "metadata": {
        "id": "vTxv1jiPr251"
      },
      "source": [
        "def show_results(pi_1, pi_2, period = 1000):\r\n",
        "    plt.figure(figsize=(10, 6))\r\n",
        "    plt.plot(pi_1[0], label='pi_1_win')\r\n",
        "    plt.plot(pi_1[1], label='pi_1_draw')\r\n",
        "    plt.plot(pi_1[2], label='pi_1_lose')\r\n",
        "    plt.plot(pi_1[3], label='pi_1_fail')\r\n",
        "    plt.plot(pi_2[0], label='pi_2_win')\r\n",
        "    plt.plot(pi_2[1], label='pi_2_draw')\r\n",
        "    plt.plot(pi_2[2], label='pi_2_lose')\r\n",
        "    plt.plot(pi_2[3], label='pi_2_fail')\r\n",
        "    plt.xlabel(f'{period} эпизодов')\r\n",
        "    plt.ylabel('Процент исходов')\r\n",
        "    plt.legend(loc='lower left')"
      ],
      "execution_count": 148,
      "outputs": []
    },
    {
      "cell_type": "code",
      "metadata": {
        "colab": {
          "base_uri": "https://localhost:8080/",
          "height": 405
        },
        "id": "UXt_gA3Ir457",
        "outputId": "d3417c89-aff5-4bbf-c237-21f42e16cab2"
      },
      "source": [
        "learner_3_3 = TicTacToeDQN(3, 3, 3, Network_3_3)\r\n",
        "pi_1, pi_2 = learn_to_play(learner_3_3, 30000, 1000)\r\n",
        "show_results(pi_1, pi_2)"
      ],
      "execution_count": 149,
      "outputs": [
        {
          "output_type": "stream",
          "text": [
            "100%|██████████| 30000/30000 [21:00<00:00, 23.80it/s]\n"
          ],
          "name": "stderr"
        },
        {
          "output_type": "display_data",
          "data": {
            "image/png": "[encoded data removed]",
            "text/plain": [
              "<Figure size 720x432 with 1 Axes>"
            ]
          },
          "metadata": {
            "tags": []
          }
        }
      ]
    }
  ]
}