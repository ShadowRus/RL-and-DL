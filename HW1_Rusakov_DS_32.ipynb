{
  "nbformat": 4,
  "nbformat_minor": 0,
  "metadata": {
    "kernelspec": {
      "display_name": "Python 3",
      "language": "python",
      "name": "python3"
    },
    "language_info": {
      "codemirror_mode": {
        "name": "ipython",
        "version": 3
      },
      "file_extension": ".py",
      "mimetype": "text/x-python",
      "name": "python",
      "nbconvert_exporter": "python",
      "pygments_lexer": "ipython3",
      "version": "3.8.3"
    },
    "colab": {
      "name": "AdvancedDL_and_RL_HW1_Rusakov_DS_32.ipynb",
      "provenance": [],
      "collapsed_sections": []
    }
  },
  "cells": [
    {
      "cell_type": "markdown",
      "metadata": {
        "id": "xVYyzdHn7M5B"
      },
      "source": [
        "## **Advanced DL and RL: Домашнее задание 1**"
      ]
    },
    {
      "cell_type": "markdown",
      "metadata": {
        "id": "rlEvSXfo7M5G"
      },
      "source": [
        "### Выполнил: **Русаков Д.Д.**\n",
        "### Группа: **MADR-DS-32**"
      ]
    },
    {
      "cell_type": "markdown",
      "metadata": {
        "id": "XEyY61B_7M5H"
      },
      "source": [
        "Первое ДЗ связано с обучением с подкреплением, и оно придумано для ситуации, когда нейронные сети ещё не нужны, и пространство состояний в целом достаточно маленькое, чтобы можно было обучить хорошую стратегию методами TD-обучения или другими методами обучения с подкреплением."
      ]
    },
    {
      "cell_type": "code",
      "metadata": {
        "colab": {
          "base_uri": "https://localhost:8080/"
        },
        "id": "FGvaCY5z7isc",
        "outputId": "595d94f4-08a2-47cf-8c2a-a1027ea06a8b"
      },
      "source": [
        "!pip install gym"
      ],
      "execution_count": 1,
      "outputs": [
        {
          "output_type": "stream",
          "text": [
            "Requirement already satisfied: gym in /usr/local/lib/python3.6/dist-packages (0.17.3)\n",
            "Requirement already satisfied: scipy in /usr/local/lib/python3.6/dist-packages (from gym) (1.4.1)\n",
            "Requirement already satisfied: numpy>=1.10.4 in /usr/local/lib/python3.6/dist-packages (from gym) (1.18.5)\n",
            "Requirement already satisfied: cloudpickle<1.7.0,>=1.2.0 in /usr/local/lib/python3.6/dist-packages (from gym) (1.3.0)\n",
            "Requirement already satisfied: pyglet<=1.5.0,>=1.4.0 in /usr/local/lib/python3.6/dist-packages (from gym) (1.5.0)\n",
            "Requirement already satisfied: future in /usr/local/lib/python3.6/dist-packages (from pyglet<=1.5.0,>=1.4.0->gym) (0.16.0)\n"
          ],
          "name": "stdout"
        }
      ]
    },
    {
      "cell_type": "code",
      "metadata": {
        "id": "IOmY2ndA7M5H"
      },
      "source": [
        "import gym\n",
        "import numpy as np\n",
        "import random\n",
        "from collections import defaultdict\n",
        "from gym import spaces\n",
        "from gym.utils import seeding\n",
        "import matplotlib.pyplot as plt\n",
        "from tqdm import tqdm"
      ],
      "execution_count": 2,
      "outputs": []
    },
    {
      "cell_type": "markdown",
      "metadata": {
        "id": "PBQiTaRr7M5I"
      },
      "source": [
        "### **Часть первая, с блекджеком и стратегиями**"
      ]
    },
    {
      "cell_type": "markdown",
      "metadata": {
        "id": "VgyBzmmL7M5I"
      },
      "source": [
        "1. Рассмотрим очень простую стратегию: говорить stand, если у нас на руках комбинация в 19, 20 или 21 очко, во всех остальных случаях говорить hit. Используйте методы Монте-Карло, чтобы оценить выигрыш от этой стратегии."
      ]
    },
    {
      "cell_type": "markdown",
      "metadata": {
        "id": "YyAprzItO4fy"
      },
      "source": [
        "### Хорошо было бы посчитать эпизодов = 250 тыс, 500 тыс. и тогда парметры можно подобрать более точно. Но больно долго учится и колаб падает по бездействию(. Ради эксперимента посчитал с 500к в части с подсчетом карт, получил практически выйгрыш даже))))"
      ]
    },
    {
      "cell_type": "code",
      "metadata": {
        "id": "kO6xD37J_3IY"
      },
      "source": [
        "N_EPOCHS = 150000"
      ],
      "execution_count": 3,
      "outputs": []
    },
    {
      "cell_type": "code",
      "metadata": {
        "id": "w7SZwj0WA-Pu"
      },
      "source": [
        "env = gym.make('Blackjack-v0')"
      ],
      "execution_count": 4,
      "outputs": []
    },
    {
      "cell_type": "code",
      "metadata": {
        "id": "yelEaXhJ7M5J"
      },
      "source": [
        "def simple_strategy(env, epoches=N_EPOCHS):\n",
        "    rewards = 0.\n",
        "\n",
        "    for i in tqdm(range(epoches)):\n",
        "        s = env.reset()\n",
        "        while True:\n",
        "            a = 0 if s[0] > 18 else 1\n",
        "            s, r, done, info = env.step(a)\n",
        "            if done:\n",
        "                rewards += r\n",
        "                break\n",
        "\n",
        "    return rewards / epoches\n",
        "\n"
      ],
      "execution_count": 5,
      "outputs": []
    },
    {
      "cell_type": "code",
      "metadata": {
        "colab": {
          "base_uri": "https://localhost:8080/"
        },
        "id": "yPuIG7fh-JvC",
        "outputId": "eccecc5f-bdd8-4640-d7a9-0357d8f30f3f"
      },
      "source": [
        "print(\"Reward:\",simple_strategy(env))"
      ],
      "execution_count": 6,
      "outputs": [
        {
          "output_type": "stream",
          "text": [
            "100%|██████████| 150000/150000 [00:07<00:00, 20555.22it/s]"
          ],
          "name": "stderr"
        },
        {
          "output_type": "stream",
          "text": [
            "Reward: -0.20394\n"
          ],
          "name": "stdout"
        },
        {
          "output_type": "stream",
          "text": [
            "\n"
          ],
          "name": "stderr"
        }
      ]
    },
    {
      "cell_type": "markdown",
      "metadata": {
        "id": "mzUCSqjz7M5J"
      },
      "source": [
        "2. Реализуйте метод обучения с подкреплением без модели (можно Q-обучение, но рекомендую попробовать и другие, например Monte Carlo control) для обучения стратегии в блекджеке, используя окружение Blackjack-v0 из OpenAI Gym."
      ]
    },
    {
      "cell_type": "code",
      "metadata": {
        "id": "yPaErOia7M5K"
      },
      "source": [
        "def select_action(env, Q, s, eps=None):\n",
        "    # select action in greedy manner if eps is not None\n",
        "    return random.choice(range(env.action_space.n)) \\\n",
        "        if s not in Q or (eps and random.random() < eps) \\\n",
        "        else np.argmax(Q[s])\n",
        "\n",
        "def Q_policy(Q):\n",
        "    return {k: np.argmax(v) for k, v in Q.items()}\n",
        "\n",
        "def reward_evaluate_pi(pi, env, epoches=N_EPOCHS):\n",
        "    rewards = 0.\n",
        "\n",
        "    for i in range(epoches):\n",
        "        s = env.reset()\n",
        "        while True:\n",
        "            a = random.choice(range(env.action_space.n)) if s not in pi else pi[s]\n",
        "            s, r, done, info = env.step(a)\n",
        "            if done:\n",
        "                rewards += r\n",
        "                break\n",
        "\n",
        "    return rewards / epoches"
      ],
      "execution_count": 7,
      "outputs": []
    },
    {
      "cell_type": "code",
      "metadata": {
        "id": "YUO4m4uj7M5K"
      },
      "source": [
        "def Q_learning(env, epoches=N_EPOCHS, eps=0.01, gamma=1., alpha=0.05):\n",
        "    Q = defaultdict(lambda: np.zeros(env.action_space.n))\n",
        "    rewards = []\n",
        "    epoch = []\n",
        "    \n",
        "    for i in range(epoches):\n",
        "        if i % 10000 == 0:\n",
        "            pi = Q_policy(Q)\n",
        "            rewards.append(reward_evaluate_pi(pi, env))\n",
        "            epoch.append(i)\n",
        "            \n",
        "        s = env.reset()\n",
        "        \n",
        "        while True:\n",
        "            a = select_action(env, Q, s, eps)\n",
        "\n",
        "            s_prime, r, done, info = env.step(a)\n",
        "            \n",
        "            Q[s][a] += alpha * (r + gamma * max(Q[s_prime]) - Q[s][a])\n",
        "                \n",
        "            s = s_prime\n",
        "            \n",
        "            if done:\n",
        "                break\n",
        "    \n",
        "    return Q, rewards,epoch"
      ],
      "execution_count": 8,
      "outputs": []
    },
    {
      "cell_type": "markdown",
      "metadata": {
        "id": "xna1QFV4BQsd"
      },
      "source": [
        "eps=0.05, gamma=1., alpha=0.05\r\n",
        "\r\n",
        "\r\n",
        "eps=0.05, gamma=1., alpha=0.005\r\n",
        "\r\n",
        "eps=0.05, gamma=1., alpha=0.0005\r\n",
        "\r\n",
        "eps=0.05, gamma=1., alpha=0.00005\r\n",
        "\r\n",
        "eps=0.95, gamma=1., alpha=0.00005  "
      ]
    },
    {
      "cell_type": "code",
      "metadata": {
        "colab": {
          "base_uri": "https://localhost:8080/"
        },
        "id": "6VWIRyYL7M5K",
        "outputId": "37fc4110-0be1-4938-ef7f-2b18aff4e73b"
      },
      "source": [
        "# eps=0.01, gamma=1., alpha=0.05\n",
        "env = gym.make('Blackjack-v0')\n",
        "Q, rewards,epoch = Q_learning(env,eps=0.05, gamma=1., alpha=0.05 )\n",
        "pi = Q_policy(Q)\n",
        "reward_evaluate_pi(pi, env)  "
      ],
      "execution_count": 9,
      "outputs": [
        {
          "output_type": "execute_result",
          "data": {
            "text/plain": [
              "-0.14338"
            ]
          },
          "metadata": {
            "tags": []
          },
          "execution_count": 9
        }
      ]
    },
    {
      "cell_type": "code",
      "metadata": {
        "colab": {
          "base_uri": "https://localhost:8080/"
        },
        "id": "K5cECOUn7-pr",
        "outputId": "cfd3f37b-e71d-41ab-fd52-4f1f9333f76d"
      },
      "source": [
        "env = gym.make('Blackjack-v0')\r\n",
        "Q, rewards,epoch = Q_learning(env,eps=0.05, gamma=1., alpha=0.005 )\r\n",
        "pi = Q_policy(Q)\r\n",
        "reward_evaluate_pi(pi, env) "
      ],
      "execution_count": 10,
      "outputs": [
        {
          "output_type": "execute_result",
          "data": {
            "text/plain": [
              "-0.17996"
            ]
          },
          "metadata": {
            "tags": []
          },
          "execution_count": 10
        }
      ]
    },
    {
      "cell_type": "code",
      "metadata": {
        "colab": {
          "base_uri": "https://localhost:8080/"
        },
        "id": "HyCOPVya765C",
        "outputId": "ac38caf0-fc5b-4f9a-e32e-e1a3749817b0"
      },
      "source": [
        "env = gym.make('Blackjack-v0')\r\n",
        "Q, rewards,epoch = Q_learning(env,eps=0.95, gamma=1., alpha=0.00005 )\r\n",
        "pi = Q_policy(Q)\r\n",
        "reward_evaluate_pi(pi, env) "
      ],
      "execution_count": 11,
      "outputs": [
        {
          "output_type": "execute_result",
          "data": {
            "text/plain": [
              "-0.051333333333333335"
            ]
          },
          "metadata": {
            "tags": []
          },
          "execution_count": 11
        }
      ]
    },
    {
      "cell_type": "markdown",
      "metadata": {
        "id": "lr5KI_-a7M5L"
      },
      "source": [
        "3. Сколько выигрывает казино у вашей стратегии? Нарисуйте графики среднего дохода вашего метода (усреднённого по крайней мере по 100000 раздач, а лучше больше) по ходу обучения. Попробуйте подобрать оптимальные гиперпараметры."
      ]
    },
    {
      "cell_type": "code",
      "metadata": {
        "colab": {
          "base_uri": "https://localhost:8080/",
          "height": 311
        },
        "id": "BaiwvuzG7M5L",
        "outputId": "8d9fdc73-b332-4eae-f5ad-fcf4bfb1c9ea"
      },
      "source": [
        "plt.xlabel('Эпизоды обучения')\r\n",
        "plt.ylabel('Награда')\r\n",
        "plt.plot(epoch, rewards)\r\n",
        "plt.xlabel('Games played')\r\n",
        "plt.ylabel('Mean Reward')\r\n",
        "plt.title('Total result:')\r\n",
        "plt.grid()\r\n",
        "plt.show()\r\n",
        "print(\"Награда при Q-обучении около\", reward_evaluate_pi(pi, env))"
      ],
      "execution_count": 12,
      "outputs": [
        {
          "output_type": "display_data",
          "data": {
            "image/png": "[encoded data removed]",
            "text/plain": [
              "<Figure size 432x288 with 1 Axes>"
            ]
          },
          "metadata": {
            "tags": [],
            "needs_background": "light"
          }
        },
        {
          "output_type": "stream",
          "text": [
            "Награда при Q-обучении около -0.05140666666666667\n"
          ],
          "name": "stdout"
        }
      ]
    },
    {
      "cell_type": "markdown",
      "metadata": {
        "id": "2l0pGfPF7M5L"
      },
      "source": [
        "### Часть вторая, удвоенная"
      ]
    },
    {
      "cell_type": "markdown",
      "metadata": {
        "id": "-UhTzaVf7M5L"
      },
      "source": [
        "В базовый блекджек, описанный в предыдущем разделе, обыграть казино вряд ли получится. Но, к счастью, на этом история не заканчивается. Описанные выше правила были упрощёнными, а на самом деле у игрока есть ещё и другие возможности. Реализовывать split может оказаться непросто, поэтому давайте ограничимся удвоением ставки. Итак, у игрока появляется дополнительное действие:\n",
        "double — удвоить ставку; при этом больше действий делать нельзя, игроку выдаётся ровно одна дополнительная карта, а выигрыш или проигрыш удваивается.\n",
        "\n",
        "\n",
        "4. Реализуйте новый вариант блекджека на основе окружения Blackjack-v0 из OpenAI Gym, в котором разрешено удвоение ставки."
      ]
    },
    {
      "cell_type": "code",
      "metadata": {
        "id": "iOguQ6hD7M5L"
      },
      "source": [
        "# from https://github.com/openai/gym/blob/master/gym/envs/toy_text/blackjack.py\n",
        "\n",
        "from gym.envs.toy_text.blackjack import draw_hand, sum_hand, usable_ace, is_bust, cmp, draw_card, score\n",
        "\n",
        "class BlackjackDoubleEnv(gym.Env):\n",
        "    def __init__(self, natural=False):\n",
        "        self.action_space = spaces.Discrete(3)\n",
        "        self.observation_space = spaces.Tuple((\n",
        "            spaces.Discrete(32),\n",
        "            spaces.Discrete(11),\n",
        "            spaces.Discrete(2)))\n",
        "        self.seed()\n",
        "        self.natural = natural\n",
        "        self.reset()\n",
        "\n",
        "    def seed(self, seed=None):\n",
        "        self.np_random, seed = seeding.np_random(seed)\n",
        "        return [seed]\n",
        "\n",
        "    def step(self, action):\n",
        "        assert self.action_space.contains(action)\n",
        "        if action == 2:\n",
        "            self.player.append(draw_card(self.np_random))\n",
        "            done = True\n",
        "            if is_bust(self.player):\n",
        "                reward = -2.\n",
        "            else:\n",
        "                while sum_hand(self.dealer) < 17:\n",
        "                    self.dealer.append(draw_card(self.np_random))\n",
        "                reward = cmp(score(self.player), score(self.dealer)) * 2\n",
        "                if self.natural and is_natural(self.player) and reward == 2.:\n",
        "                    reward = 3.\n",
        "        elif action == 1:  \n",
        "            self.player.append(draw_card(self.np_random))\n",
        "            if is_bust(self.player):\n",
        "                done = True\n",
        "                reward = -1.\n",
        "            else:\n",
        "                done = False\n",
        "                reward = 0.\n",
        "        else:  # stick: play out the dealers hand, and score\n",
        "            done = True\n",
        "            while sum_hand(self.dealer) < 17:\n",
        "                self.dealer.append(draw_card(self.np_random))\n",
        "            reward = cmp(score(self.player), score(self.dealer))\n",
        "            if self.natural and is_natural(self.player) and reward == 1.:\n",
        "                reward = 1.5\n",
        "        return self._get_obs(), reward, done, {}\n",
        "\n",
        "    def _get_obs(self):\n",
        "        return (sum_hand(self.player), self.dealer[0], usable_ace(self.player))\n",
        "\n",
        "    def reset(self):\n",
        "        self.dealer = draw_hand(self.np_random)\n",
        "        self.player = draw_hand(self.np_random)\n",
        "        return self._get_obs()"
      ],
      "execution_count": 13,
      "outputs": []
    },
    {
      "cell_type": "markdown",
      "metadata": {
        "id": "uFFIT6fd7M5M"
      },
      "source": [
        "5. Реализуйте метод обучения с подкреплением без модели для этого варианта, постройте графики, аналогичные п.2."
      ]
    },
    {
      "cell_type": "markdown",
      "metadata": {
        "id": "QIz1bhFjBqWh"
      },
      "source": [
        "eps=0.95, gamma=1., alpha=0.00005\r\n",
        "\r\n",
        "eps=0.95, gamma=1., alpha=0.0005\r\n"
      ]
    },
    {
      "cell_type": "code",
      "metadata": {
        "colab": {
          "base_uri": "https://localhost:8080/"
        },
        "id": "9a3jQQqx7M5M",
        "outputId": "3f767d30-fe15-4787-92fe-aba398ef3803"
      },
      "source": [
        "env = BlackjackDoubleEnv()\n",
        "Q, rewards,epoch = Q_learning(env,eps=0.95, gamma=1., alpha=0.00005)\n",
        "pi = Q_policy(Q)\n",
        "reward_evaluate_pi(pi, env)"
      ],
      "execution_count": 14,
      "outputs": [
        {
          "output_type": "execute_result",
          "data": {
            "text/plain": [
              "-0.04384"
            ]
          },
          "metadata": {
            "tags": []
          },
          "execution_count": 14
        }
      ]
    },
    {
      "cell_type": "code",
      "metadata": {
        "colab": {
          "base_uri": "https://localhost:8080/"
        },
        "id": "_FjSUcNo92wW",
        "outputId": "e59af300-6ca4-4df6-c4d3-e70508fbc70e"
      },
      "source": [
        "env = BlackjackDoubleEnv()\r\n",
        "Q, rewards,epoch = Q_learning(env,eps=0.95, gamma=1., alpha=0.0005)\r\n",
        "pi = Q_policy(Q)\r\n",
        "reward_evaluate_pi(pi, env)"
      ],
      "execution_count": 15,
      "outputs": [
        {
          "output_type": "execute_result",
          "data": {
            "text/plain": [
              "-0.04818"
            ]
          },
          "metadata": {
            "tags": []
          },
          "execution_count": 15
        }
      ]
    },
    {
      "cell_type": "code",
      "metadata": {
        "scrolled": true,
        "colab": {
          "base_uri": "https://localhost:8080/",
          "height": 311
        },
        "id": "gL4BbSCj7M5M",
        "outputId": "0f3ef613-17bc-4f63-f9c1-6a5dbe240ac2"
      },
      "source": [
        "plt.xlabel('Эпизоды обучения')\r\n",
        "plt.ylabel('Награда')\r\n",
        "plt.plot(epoch, rewards)\r\n",
        "plt.xlabel('Games played')\r\n",
        "plt.ylabel('Mean Reward')\r\n",
        "plt.title('Total result:')\r\n",
        "plt.grid()\r\n",
        "plt.show()\r\n",
        "print(\"Награда при Q-обучении около\", reward_evaluate_pi(pi, env))"
      ],
      "execution_count": 16,
      "outputs": [
        {
          "output_type": "display_data",
          "data": {
            "image/png": "[encoded data removed]",
            "text/plain": [
              "<Figure size 432x288 with 1 Axes>"
            ]
          },
          "metadata": {
            "tags": [],
            "needs_background": "light"
          }
        },
        {
          "output_type": "stream",
          "text": [
            "Награда при Q-обучении около -0.05225333333333333\n"
          ],
          "name": "stdout"
        }
      ]
    },
    {
      "cell_type": "markdown",
      "metadata": {
        "id": "-UG7FA927M5M"
      },
      "source": [
        "<H1>Часть третья, в главной роли — Дастин Хоффман</H1>"
      ]
    },
    {
      "cell_type": "markdown",
      "metadata": {
        "id": "Z-Q3HgLp7M5N"
      },
      "source": [
        "6. Реализуйте вариант окружения Blackjack-v0 из предыдущей части (с удвоением), в котором игрок имеет возможность “считать карты” в колоде. Это можно сделать разными способами; возможно, вам поможет статья википедии о блекджеке (а возможно, и нет)."
      ]
    },
    {
      "cell_type": "code",
      "metadata": {
        "id": "F7OOYZaK7M5N"
      },
      "source": [
        "# https://en.wikipedia.org/wiki/Card_counting\n",
        "\n",
        "halves = [0.5, 1., 1., 1.5, 1., 0.5, 0., -0.5, -1., -1., -1., -1.]\n",
        "\n",
        "class BlackjackCountEnv(gym.Env):\n",
        "    def __init__(self, natural=False):\n",
        "        self.action_space = spaces.Discrete(3)\n",
        "        self.observation_space = spaces.Tuple((\n",
        "            spaces.Discrete(32),\n",
        "            spaces.Discrete(11),\n",
        "            spaces.Discrete(2)))\n",
        "        self.seed()\n",
        "        self.natural = natural\n",
        "        self.reset()\n",
        "\n",
        "    def draw_card(self):\n",
        "        result = self.deck[self.position]\n",
        "        self.position += 1\n",
        "        self.drawn_cards_sum += halves[result - 1]\n",
        "        return result\n",
        "    \n",
        "    def draw_hand(self):\n",
        "        return [self.draw_card(), self.draw_card()]    \n",
        "    \n",
        "    def seed(self, seed=None):\n",
        "        self.np_random, seed = seeding.np_random(seed)\n",
        "        return [seed]\n",
        "\n",
        "    def step(self, action):\n",
        "        assert self.action_space.contains(action)\n",
        "        if action == 2: # double\n",
        "            self.player.append(self.draw_card())\n",
        "            done = True\n",
        "            if is_bust(self.player):\n",
        "                reward = -2.\n",
        "            else:\n",
        "                while sum_hand(self.dealer) < 17:\n",
        "                    self.dealer.append(self.draw_card())\n",
        "                reward = cmp(score(self.player), score(self.dealer)) * 2\n",
        "                if self.natural and is_natural(self.player) and reward == 2.:\n",
        "                    reward = 3.\n",
        "        elif action == 1:  # hit: add a card to players hand and return\n",
        "            self.player.append(self.draw_card())\n",
        "            if is_bust(self.player):\n",
        "                done = True\n",
        "                reward = -1.\n",
        "            else:\n",
        "                done = False\n",
        "                reward = 0.\n",
        "        else:  # stick: play out the dealers hand, and score\n",
        "            done = True\n",
        "            while sum_hand(self.dealer) < 17:\n",
        "                self.dealer.append(self.draw_card())\n",
        "            reward = cmp(score(self.player), score(self.dealer))\n",
        "            if self.natural and is_natural(self.player) and reward == 1.:\n",
        "                reward = 1.5\n",
        "        if done:\n",
        "            if (len(self.deck) - self.position < 15):\n",
        "                self.shuffle_deck()\n",
        "            \n",
        "        return self._get_obs(), reward, done, {}\n",
        "\n",
        "    def _get_obs(self):\n",
        "        return (sum_hand(self.player), self.dealer[0], self.drawn_cards_sum,\n",
        "                usable_ace(self.player))\n",
        "    \n",
        "    def shuffle_deck(self):\n",
        "        random.shuffle(self.deck)\n",
        "        self.drawn_cards_sum = 0.\n",
        "        self.position = 0\n",
        "\n",
        "    def reset(self):\n",
        "        self.deck = (list(range(10)) + [10] * 4) * 4\n",
        "        self.shuffle_deck() \n",
        "        self.dealer = [self.draw_card()]\n",
        "        self.player = self.draw_hand()\n",
        "        return self._get_obs()"
      ],
      "execution_count": 17,
      "outputs": []
    },
    {
      "cell_type": "markdown",
      "metadata": {
        "id": "vhnE1Er37M5O"
      },
      "source": [
        "7. Реализуйте метод обучения с подкреплением без модели для этого варианта, постройте графики, аналогичные п.2."
      ]
    },
    {
      "cell_type": "markdown",
      "metadata": {
        "id": "ST8TNSJoB9ig"
      },
      "source": [
        "eps=0.95, gamma=1., alpha=0.0002\r\n",
        "\r\n",
        "\r\n",
        "eps=0.95, gamma=1., alpha=0.00002\r\n",
        "\r\n",
        "\r\n",
        "eps=1, gamma=1., alpha=0.00002\r\n"
      ]
    },
    {
      "cell_type": "code",
      "metadata": {
        "colab": {
          "base_uri": "https://localhost:8080/"
        },
        "id": "XGjl-FXp-ywF",
        "outputId": "ac708038-9424-4af9-8eee-6a96c2e5e68c"
      },
      "source": [
        "env = BlackjackCountEnv()\r\n",
        "Q, rewards,epoch = Q_learning(env,eps=0.95, gamma=1., alpha=0.0002)\r\n",
        "pi = Q_policy(Q)\r\n",
        "reward_evaluate_pi(pi, env)"
      ],
      "execution_count": 18,
      "outputs": [
        {
          "output_type": "execute_result",
          "data": {
            "text/plain": [
              "-0.07896666666666667"
            ]
          },
          "metadata": {
            "tags": []
          },
          "execution_count": 18
        }
      ]
    },
    {
      "cell_type": "code",
      "metadata": {
        "colab": {
          "base_uri": "https://localhost:8080/"
        },
        "id": "ikIc6OEX7M5O",
        "outputId": "5bd5e679-57e0-4f38-f9c3-0510a601e5d1"
      },
      "source": [
        "env = BlackjackCountEnv()\n",
        "Q, rewards,epoch = Q_learning(env,eps=1, gamma=1., alpha=0.00002)\n",
        "pi = Q_policy(Q)\n",
        "reward_evaluate_pi(pi, env)"
      ],
      "execution_count": 19,
      "outputs": [
        {
          "output_type": "execute_result",
          "data": {
            "text/plain": [
              "-0.07922"
            ]
          },
          "metadata": {
            "tags": []
          },
          "execution_count": 19
        }
      ]
    },
    {
      "cell_type": "code",
      "metadata": {
        "colab": {
          "base_uri": "https://localhost:8080/",
          "height": 311
        },
        "id": "s2JBGlUw7M5O",
        "outputId": "4b84e007-e978-46db-e7ee-6a50f0af17ff"
      },
      "source": [
        "plt.xlabel('Эпизоды обучения')\r\n",
        "plt.ylabel('Награда')\r\n",
        "plt.plot(epoch, rewards)\r\n",
        "plt.xlabel('Games played')\r\n",
        "plt.ylabel('Mean Reward')\r\n",
        "plt.title('Total result:')\r\n",
        "plt.grid()\r\n",
        "plt.show()\r\n",
        "print(\"Награда при Q-обучении около\", reward_evaluate_pi(pi, env))"
      ],
      "execution_count": 20,
      "outputs": [
        {
          "output_type": "display_data",
          "data": {
            "image/png": "[encoded data removed]",
            "text/plain": [
              "<Figure size 432x288 with 1 Axes>"
            ]
          },
          "metadata": {
            "tags": [],
            "needs_background": "light"
          }
        },
        {
          "output_type": "stream",
          "text": [
            "Награда при Q-обучении около -0.07790666666666667\n"
          ],
          "name": "stdout"
        }
      ]
    }
  ]
}